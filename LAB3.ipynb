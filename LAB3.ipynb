{
 "cells": [
  {
   "cell_type": "code",
   "execution_count": 1,
   "metadata": {},
   "outputs": [],
   "source": [
    "import numpy as np"
   ]
  },
  {
   "cell_type": "code",
   "execution_count": 2,
   "metadata": {},
   "outputs": [
    {
     "data": {
      "text/plain": [
       "array([[ 1,  1, -2],\n",
       "       [ 3,  2, -4],\n",
       "       [ 2, -3,  5]])"
      ]
     },
     "execution_count": 2,
     "metadata": {},
     "output_type": "execute_result"
    }
   ],
   "source": [
    "A=np.array([[1,1,-2],\n",
    "           [3,2,-4],\n",
    "            [2,-3,5]])\n",
    "A"
   ]
  },
  {
   "cell_type": "code",
   "execution_count": 3,
   "metadata": {},
   "outputs": [
    {
     "data": {
      "text/plain": [
       "(3, 3)"
      ]
     },
     "execution_count": 3,
     "metadata": {},
     "output_type": "execute_result"
    }
   ],
   "source": [
    "n,m=A.shape[0],A.shape[1]\n",
    "n,m"
   ]
  },
  {
   "cell_type": "code",
   "execution_count": 5,
   "metadata": {},
   "outputs": [
    {
     "name": "stdout",
     "output_type": "stream",
     "text": [
      "UPPER TRIANGULAR MATRIX:\n",
      " [[ 1  1 -2]\n",
      " [ 0 -1  2]\n",
      " [ 0  0 -1]]\n",
      "\n",
      "LOWER TRIANGULAR MATRIX:\n",
      " [[1. 0. 0.]\n",
      " [3. 1. 0.]\n",
      " [2. 5. 1.]]\n"
     ]
    }
   ],
   "source": [
    "U = A.copy()\n",
    "L = np.eye(n)\n",
    "for i in range(0,n):\n",
    "    for j in range(i+1,n):\n",
    "        multiplier = U[j,i] / U[i,i]\n",
    "        U[j,:] = U[j,:] - multiplier * U[i,:]\n",
    "        L[j,i] = multiplier\n",
    "        \n",
    "print(\"UPPER TRIANGULAR MATRIX:\\n\",U)\n",
    "print()\n",
    "print(\"LOWER TRIANGULAR MATRIX:\\n\",L)"
   ]
  },
  {
   "cell_type": "markdown",
   "metadata": {},
   "source": [
    "## CHECKING IF THE OBTAINED L AND U MATRIX IS CORRECT"
   ]
  },
  {
   "cell_type": "code",
   "execution_count": 7,
   "metadata": {},
   "outputs": [
    {
     "data": {
      "text/plain": [
       "array([[ 1.,  1., -2.],\n",
       "       [ 3.,  2., -4.],\n",
       "       [ 2., -3.,  5.]])"
      ]
     },
     "execution_count": 7,
     "metadata": {},
     "output_type": "execute_result"
    }
   ],
   "source": [
    "#CHECK\n",
    "OriginalA = np.dot(L,U)\n",
    "OriginalA"
   ]
  },
  {
   "cell_type": "markdown",
   "metadata": {},
   "source": [
    "## INVERSE OF THE MATRIX"
   ]
  },
  {
   "cell_type": "code",
   "execution_count": 8,
   "metadata": {},
   "outputs": [
    {
     "data": {
      "text/plain": [
       "array([[ -2.,   1.,   0.],\n",
       "       [-23.,   9.,  -2.],\n",
       "       [-13.,   5.,  -1.]])"
      ]
     },
     "execution_count": 8,
     "metadata": {},
     "output_type": "execute_result"
    }
   ],
   "source": [
    "n = L.shape[0]\n",
    "Y = np.zeros((n, n))\n",
    "X = np.zeros((n, n))\n",
    "I = np.eye(n)\n",
    "for col in range(n):  # Solve for each column of I\n",
    "        for i in range(n):\n",
    "            Y[i, col] = (I[i, col] - np.dot(L[i, :i], Y[:i, col])) / L[i, i]\n",
    "\n",
    "for col in range(n):  # Solve for each column\n",
    "        for i in range(n-1, -1, -1):\n",
    "            X[i, col] = (Y[i, col] - np.dot(U[i, i+1:], X[i+1:, col])) / U[i, i]\n",
    "X"
   ]
  },
  {
   "cell_type": "markdown",
   "metadata": {},
   "source": [
    "## CHECKING IF THE INVERSE OBTAINED IS CORRECT"
   ]
  },
  {
   "cell_type": "code",
   "execution_count": 9,
   "metadata": {},
   "outputs": [
    {
     "data": {
      "text/plain": [
       "array([[1., 0., 0.],\n",
       "       [0., 1., 0.],\n",
       "       [0., 0., 1.]])"
      ]
     },
     "execution_count": 9,
     "metadata": {},
     "output_type": "execute_result"
    }
   ],
   "source": [
    "INV = np.dot(A,X)\n",
    "INV"
   ]
  },
  {
   "cell_type": "markdown",
   "metadata": {},
   "source": [
    "## CHECKING UPPER AND LOWER TRIANGULAR MATRICES WITH STANDARD LIBRARY\n"
   ]
  },
  {
   "cell_type": "code",
   "execution_count": 10,
   "metadata": {},
   "outputs": [
    {
     "name": "stdout",
     "output_type": "stream",
     "text": [
      "UPPER TRIANGULAR MATRIX:\n",
      " [[ 3.          2.         -4.        ]\n",
      " [ 0.         -4.33333333  7.66666667]\n",
      " [ 0.          0.         -0.07692308]]\n",
      "\n",
      "LOWER TRIANGULAR MATRIX:\n",
      " [[ 1.          0.          0.        ]\n",
      " [ 0.66666667  1.          0.        ]\n",
      " [ 0.33333333 -0.07692308  1.        ]]\n"
     ]
    },
    {
     "data": {
      "text/plain": [
       "'If you are using scipy.linalg.lu(A), it automatically applies \\nrow permutations, which changes the order of decomposition.'"
      ]
     },
     "execution_count": 10,
     "metadata": {},
     "output_type": "execute_result"
    }
   ],
   "source": [
    "from scipy.linalg import lu\n",
    "P,Lower,Upper = lu(A)\n",
    "print(\"UPPER TRIANGULAR MATRIX:\\n\",Upper)\n",
    "print()\n",
    "print(\"LOWER TRIANGULAR MATRIX:\\n\",Lower)\n",
    "\n",
    "'''If you are using scipy.linalg.lu(A), it automatically applies \n",
    "row permutations, which changes the order of decomposition.'''"
   ]
  },
  {
   "cell_type": "markdown",
   "metadata": {},
   "source": [
    "## CHECKING WITH STANDARD FUNCTION\n"
   ]
  },
  {
   "cell_type": "code",
   "execution_count": 11,
   "metadata": {},
   "outputs": [
    {
     "data": {
      "text/plain": [
       "array([[ -2.,   1.,   0.],\n",
       "       [-23.,   9.,  -2.],\n",
       "       [-13.,   5.,  -1.]])"
      ]
     },
     "execution_count": 11,
     "metadata": {},
     "output_type": "execute_result"
    }
   ],
   "source": [
    "INVL = np.linalg.inv(A)\n",
    "INVL"
   ]
  }
 ],
 "metadata": {
  "kernelspec": {
   "display_name": "Python 3 (ipykernel)",
   "language": "python",
   "name": "python3"
  },
  "language_info": {
   "codemirror_mode": {
    "name": "ipython",
    "version": 3
   },
   "file_extension": ".py",
   "mimetype": "text/x-python",
   "name": "python",
   "nbconvert_exporter": "python",
   "pygments_lexer": "ipython3",
   "version": "3.7.6"
  }
 },
 "nbformat": 4,
 "nbformat_minor": 4
}
