{
 "cells": [
  {
   "cell_type": "code",
   "execution_count": null,
   "metadata": {},
   "outputs": [],
   "source": [
    "#WRITE A PROGRAM TO FIT A LEAST SQUARE ERROR TO A SET OF 2D POINTS GIVEN AND SHOW PLOTS"
   ]
  },
  {
   "cell_type": "code",
   "execution_count": 1,
   "metadata": {},
   "outputs": [],
   "source": [
    "import numpy as np\n",
    "import matplotlib.pyplot as plt"
   ]
  },
  {
   "cell_type": "code",
   "execution_count": null,
   "metadata": {},
   "outputs": [],
   "source": [
    "def linear_fit(x,y):\n",
    "    x=np.array(x)\n",
    "    y=np.array(y)\n",
    "    n=len(x)\n",
    "    #m = (n∑xy - ∑y∑x)/[n∑x2 - (∑x)2] SLOPE FORMULA\n",
    "    m=(n*np.sum(x*y)-np.sum(x)*np.sum(y))/(n*np.sum(x**2)-np.sum(x)**2)\n",
    "    #b = (∑y - m∑x)/n INTERCEPT FORMULA\n",
    "    c=(np.sum(y)-m*np.sum(x))/n\n",
    "    return m,c"
   ]
  },
  {
   "cell_type": "code",
   "execution_count": 3,
   "metadata": {},
   "outputs": [
    {
     "name": "stdout",
     "output_type": "stream",
     "text": [
      "0.8\n",
      "0.5\n"
     ]
    }
   ],
   "source": [
    "x=[1,2,3,4]\n",
    "y=[1,3,2,4]\n",
    "m,c=linear_fit(x,y)\n",
    "print(m)\n",
    "print(c)"
   ]
  },
  {
   "cell_type": "code",
   "execution_count": null,
   "metadata": {},
   "outputs": [],
   "source": [
    "#NOW CHECKING WITH STANDARD LINEAR REGRESION LIBRARY\n",
    "from sklearn.linear_model import LinearRegression\n",
    "def varlinear_fit(x,y):\n",
    "    x=np.array(x).reshape(-1,1)\n",
    "    y=np.array(y)\n",
    "    model=LinearRegression()\n",
    "    model.fit(x,y)\n",
    "    slope = model.coef_[0]\n",
    "    intercept = model.intercept_\n",
    "    return slope,intercept"
   ]
  },
  {
   "cell_type": "code",
   "execution_count": 5,
   "metadata": {},
   "outputs": [
    {
     "name": "stdout",
     "output_type": "stream",
     "text": [
      "0.8000000000000002\n",
      "0.49999999999999956\n"
     ]
    }
   ],
   "source": [
    "x=[1,2,3,4]\n",
    "y=[1,3,2,4]\n",
    "m,c=varlinear_fit(x,y)\n",
    "print(m)\n",
    "print(c)"
   ]
  },
  {
   "cell_type": "code",
   "execution_count": 27,
   "metadata": {},
   "outputs": [
    {
     "data": {
      "image/png": "[encoded data removed]",
      "text/plain": [
       "<Figure size 432x288 with 1 Axes>"
      ]
     },
     "metadata": {
      "needs_background": "light"
     },
     "output_type": "display_data"
    }
   ],
   "source": [
    "plt.scatter(x,y,color='blue',label='data points')\n",
    "yfit=[m*xi + c for xi in x]\n",
    "plt.plot(x,yfit,color='red',label='fitted line')\n",
    "plt.grid(True)\n",
    "plt.xlabel('X')\n",
    "plt.ylabel('Y')\n",
    "plt.legend()\n",
    "plt.show()"
   ]
  },
  {
   "cell_type": "code",
   "execution_count": null,
   "metadata": {},
   "outputs": [],
   "source": []
  }
 ],
 "metadata": {
  "kernelspec": {
   "display_name": "Python 3 (ipykernel)",
   "language": "python",
   "name": "python3"
  },
  "language_info": {
   "codemirror_mode": {
    "name": "ipython",
    "version": 3
   },
   "file_extension": ".py",
   "mimetype": "text/x-python",
   "name": "python",
   "nbconvert_exporter": "python",
   "pygments_lexer": "ipython3",
   "version": "3.7.6"
  }
 },
 "nbformat": 4,
 "nbformat_minor": 4
}
