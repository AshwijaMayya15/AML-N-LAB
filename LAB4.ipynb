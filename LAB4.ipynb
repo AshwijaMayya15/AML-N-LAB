{
 "cells": [
  {
   "cell_type": "markdown",
   "metadata": {},
   "source": [
    "## QR Decomposition without in built functions"
   ]
  },
  {
   "cell_type": "code",
   "execution_count": 1,
   "metadata": {},
   "outputs": [],
   "source": [
    "import numpy as np"
   ]
  },
  {
   "cell_type": "code",
   "execution_count": 2,
   "metadata": {},
   "outputs": [],
   "source": [
    "def gram_schmidt_q(A):\n",
    "    A = np.array(A, dtype=np.float64)\n",
    "    m, n = A.shape\n",
    "    Q = np.zeros((m, n))\n",
    "    for i in range(n):\n",
    "        q = A[:, i].copy()\n",
    "        for j in range(i):\n",
    "            proj = np.dot(Q[:, j], A[:, i]) * Q[:, j]\n",
    "            q -= proj\n",
    "        norm_q = np.linalg.norm(q)\n",
    "        Q[:, i] = q / norm_q\n",
    "    return Q"
   ]
  },
  {
   "cell_type": "code",
   "execution_count": 3,
   "metadata": {},
   "outputs": [],
   "source": [
    "def compute_r(A, Q):\n",
    "    n = Q.shape[1]  \n",
    "    R = np.zeros((n, n))  \n",
    "    for i in range(n):  \n",
    "        for j in range(i, n):\n",
    "            R[i, j] = np.dot(Q[:, i], A[:, j])  \n",
    "    return R"
   ]
  },
  {
   "cell_type": "code",
   "execution_count": 4,
   "metadata": {},
   "outputs": [
    {
     "name": "stdout",
     "output_type": "stream",
     "text": [
      "Q (Orthonormal basis):\n",
      "[[1. 0. 0.]\n",
      " [0. 0. 1.]\n",
      " [0. 1. 0.]]\n",
      "\n",
      "R (Upper triangular matrix):\n",
      "[[1. 2. 4.]\n",
      " [0. 3. 6.]\n",
      " [0. 0. 5.]]\n"
     ]
    }
   ],
   "source": [
    "A = np.array([[1, 2, 4], [0, 0, 5], [0, 3, 6]], dtype=np.float64)\n",
    "Q = gram_schmidt_q(A)\n",
    "R = compute_r(A, Q)\n",
    "print(\"Q (Orthonormal basis):\")\n",
    "print(Q)\n",
    "print(\"\\nR (Upper triangular matrix):\")\n",
    "print(R)"
   ]
  },
  {
   "cell_type": "code",
   "execution_count": 5,
   "metadata": {},
   "outputs": [
    {
     "name": "stdout",
     "output_type": "stream",
     "text": [
      " Original Matrix\n",
      "[[1. 2. 4.]\n",
      " [0. 0. 5.]\n",
      " [0. 3. 6.]]\n"
     ]
    }
   ],
   "source": [
    "B = np.dot(Q,R)\n",
    "print(\" Original Matrix\")\n",
    "print(B)"
   ]
  },
  {
   "cell_type": "markdown",
   "metadata": {},
   "source": [
    "## QR Decoposition using Built in function"
   ]
  },
  {
   "cell_type": "code",
   "execution_count": 8,
   "metadata": {},
   "outputs": [
    {
     "name": "stdout",
     "output_type": "stream",
     "text": [
      "Q (Orthonormal basis):\n",
      "[[ 1.  0.  0.]\n",
      " [-0.  0. -1.]\n",
      " [-0. -1.  0.]]\n",
      "\n",
      "R (Upper triangular matrix):\n",
      "[[ 1.  2.  4.]\n",
      " [ 0. -3. -6.]\n",
      " [ 0.  0. -5.]]\n",
      " Original Matrix\n",
      "[[1. 2. 4.]\n",
      " [0. 0. 5.]\n",
      " [0. 3. 6.]]\n"
     ]
    }
   ],
   "source": [
    "A = np.array([[1, 2, 4], [0, 0, 5], [0, 3, 6]], dtype=np.float64)\n",
    "Q,R = np.linalg.qr(A)\n",
    "print(\"Q (Orthonormal basis):\")\n",
    "print(Q)\n",
    "print(\"\\nR (Upper triangular matrix):\")\n",
    "print(R)\n",
    "C = np.dot(Q,R)\n",
    "print(\" Original Matrix\")\n",
    "print(C)"
   ]
  }
 ],
 "metadata": {
  "kernelspec": {
   "display_name": "Python 3 (ipykernel)",
   "language": "python",
   "name": "python3"
  },
  "language_info": {
   "codemirror_mode": {
    "name": "ipython",
    "version": 3
   },
   "file_extension": ".py",
   "mimetype": "text/x-python",
   "name": "python",
   "nbconvert_exporter": "python",
   "pygments_lexer": "ipython3",
   "version": "3.7.6"
  }
 },
 "nbformat": 4,
 "nbformat_minor": 4
}
