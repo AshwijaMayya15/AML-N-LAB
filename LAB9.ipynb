{
 "cells": [
  {
   "cell_type": "code",
   "execution_count": 1,
   "metadata": {},
   "outputs": [
    {
     "name": "stdout",
     "output_type": "stream",
     "text": [
      "WARNING:tensorflow:From c:\\Users\\ASUS\\AppData\\Local\\Programs\\Python\\Python311\\Lib\\site-packages\\keras\\src\\losses.py:2976: The name tf.losses.sparse_softmax_cross_entropy is deprecated. Please use tf.compat.v1.losses.sparse_softmax_cross_entropy instead.\n",
      "\n"
     ]
    }
   ],
   "source": [
    "import numpy as np\n",
    "import tensorflow as tf\n",
    "import matplotlib.pyplot as plt\n",
    "from sklearn import datasets\n",
    "from sklearn.model_selection import train_test_split\n",
    "from sklearn.preprocessing import StandardScaler, OneHotEncoder\n",
    "from sklearn.metrics import accuracy_score, confusion_matrix, ConfusionMatrixDisplay"
   ]
  },
  {
   "cell_type": "code",
   "execution_count": 2,
   "metadata": {},
   "outputs": [],
   "source": [
    "def load_iris():\n",
    "    iris = datasets.load_iris()\n",
    "    X = iris.data  # Use all four features\n",
    "    y = iris.target.reshape(-1, 1)\n",
    "    return X, y"
   ]
  },
  {
   "cell_type": "code",
   "execution_count": 3,
   "metadata": {},
   "outputs": [],
   "source": [
    "X, y = load_iris()"
   ]
  },
  {
   "cell_type": "code",
   "execution_count": 4,
   "metadata": {},
   "outputs": [],
   "source": [
    "# Preprocess data\n",
    "scaler = StandardScaler()\n",
    "X = scaler.fit_transform(X)\n",
    "encoder = OneHotEncoder(sparse_output=False)\n",
    "y = encoder.fit_transform(y)"
   ]
  },
  {
   "cell_type": "code",
   "execution_count": 5,
   "metadata": {},
   "outputs": [],
   "source": [
    "# Split data into training and testing sets\n",
    "X_train, X_test, y_train, y_test = train_test_split(X, y, test_size=0.2, random_state=42)"
   ]
  },
  {
   "cell_type": "code",
   "execution_count": 6,
   "metadata": {},
   "outputs": [
    {
     "name": "stdout",
     "output_type": "stream",
     "text": [
      "WARNING:tensorflow:From c:\\Users\\ASUS\\AppData\\Local\\Programs\\Python\\Python311\\Lib\\site-packages\\keras\\src\\backend.py:873: The name tf.get_default_graph is deprecated. Please use tf.compat.v1.get_default_graph instead.\n",
      "\n"
     ]
    }
   ],
   "source": [
    "# Build ANN model with Batch Normalization\n",
    "model = tf.keras.Sequential([\n",
    "    tf.keras.layers.Dense(64, activation='relu', kernel_regularizer=tf.keras.regularizers.l2(0.01)),\n",
    "    tf.keras.layers.BatchNormalization(),\n",
    "    tf.keras.layers.Dropout(0.3),\n",
    "    \n",
    "    tf.keras.layers.Dense(32, activation='relu', kernel_regularizer=tf.keras.regularizers.l2(0.01)),\n",
    "    tf.keras.layers.BatchNormalization(),\n",
    "    tf.keras.layers.Dropout(0.3),\n",
    "    \n",
    "    tf.keras.layers.Dense(3, activation='softmax')\n",
    "])"
   ]
  },
  {
   "cell_type": "code",
   "execution_count": 7,
   "metadata": {},
   "outputs": [
    {
     "name": "stdout",
     "output_type": "stream",
     "text": [
      "WARNING:tensorflow:From c:\\Users\\ASUS\\AppData\\Local\\Programs\\Python\\Python311\\Lib\\site-packages\\keras\\src\\optimizers\\__init__.py:309: The name tf.train.Optimizer is deprecated. Please use tf.compat.v1.train.Optimizer instead.\n",
      "\n"
     ]
    }
   ],
   "source": [
    "# Compile model\n",
    "model.compile(optimizer='adam', loss='categorical_crossentropy', metrics=['accuracy'])"
   ]
  },
  {
   "cell_type": "code",
   "execution_count": 8,
   "metadata": {},
   "outputs": [
    {
     "name": "stdout",
     "output_type": "stream",
     "text": [
      "Epoch 1/100\n",
      "WARNING:tensorflow:From c:\\Users\\ASUS\\AppData\\Local\\Programs\\Python\\Python311\\Lib\\site-packages\\keras\\src\\utils\\tf_utils.py:492: The name tf.ragged.RaggedTensorValue is deprecated. Please use tf.compat.v1.ragged.RaggedTensorValue instead.\n",
      "\n",
      "WARNING:tensorflow:From c:\\Users\\ASUS\\AppData\\Local\\Programs\\Python\\Python311\\Lib\\site-packages\\keras\\src\\engine\\base_layer_utils.py:384: The name tf.executing_eagerly_outside_functions is deprecated. Please use tf.compat.v1.executing_eagerly_outside_functions instead.\n",
      "\n",
      "12/12 [==============================] - 5s 63ms/step - loss: 2.0393 - accuracy: 0.3583 - val_loss: 1.5579 - val_accuracy: 0.3667\n",
      "Epoch 2/100\n",
      "12/12 [==============================] - 0s 9ms/step - loss: 1.5202 - accuracy: 0.5750 - val_loss: 1.4531 - val_accuracy: 0.7000\n",
      "Epoch 3/100\n",
      "12/12 [==============================] - 0s 9ms/step - loss: 1.0979 - accuracy: 0.7500 - val_loss: 1.3702 - val_accuracy: 0.7000\n",
      "Epoch 4/100\n",
      "12/12 [==============================] - 0s 8ms/step - loss: 1.0583 - accuracy: 0.7750 - val_loss: 1.3067 - val_accuracy: 0.7333\n",
      "Epoch 5/100\n",
      "12/12 [==============================] - 0s 9ms/step - loss: 0.8940 - accuracy: 0.8417 - val_loss: 1.2504 - val_accuracy: 0.7667\n",
      "Epoch 6/100\n",
      "12/12 [==============================] - 0s 9ms/step - loss: 0.9251 - accuracy: 0.8083 - val_loss: 1.1966 - val_accuracy: 0.7333\n",
      "Epoch 7/100\n",
      "12/12 [==============================] - 0s 9ms/step - loss: 0.8936 - accuracy: 0.8333 - val_loss: 1.1462 - val_accuracy: 0.7333\n",
      "Epoch 8/100\n",
      "12/12 [==============================] - 0s 9ms/step - loss: 0.9273 - accuracy: 0.8250 - val_loss: 1.1000 - val_accuracy: 0.8000\n",
      "Epoch 9/100\n",
      "12/12 [==============================] - 0s 9ms/step - loss: 0.7715 - accuracy: 0.8917 - val_loss: 1.0569 - val_accuracy: 0.8333\n",
      "Epoch 10/100\n",
      "12/12 [==============================] - 0s 9ms/step - loss: 0.7205 - accuracy: 0.9083 - val_loss: 1.0096 - val_accuracy: 0.8667\n",
      "Epoch 11/100\n",
      "12/12 [==============================] - 0s 9ms/step - loss: 0.8044 - accuracy: 0.8583 - val_loss: 0.9706 - val_accuracy: 0.8667\n",
      "Epoch 12/100\n",
      "12/12 [==============================] - 0s 11ms/step - loss: 0.6979 - accuracy: 0.9000 - val_loss: 0.9198 - val_accuracy: 0.9333\n",
      "Epoch 13/100\n",
      "12/12 [==============================] - 0s 9ms/step - loss: 0.7517 - accuracy: 0.9333 - val_loss: 0.8760 - val_accuracy: 0.9667\n",
      "Epoch 14/100\n",
      "12/12 [==============================] - 0s 12ms/step - loss: 0.6288 - accuracy: 0.9500 - val_loss: 0.8341 - val_accuracy: 0.9667\n",
      "Epoch 15/100\n",
      "12/12 [==============================] - 0s 9ms/step - loss: 0.7625 - accuracy: 0.8583 - val_loss: 0.7910 - val_accuracy: 0.9667\n",
      "Epoch 16/100\n",
      "12/12 [==============================] - 0s 8ms/step - loss: 0.7336 - accuracy: 0.8750 - val_loss: 0.7437 - val_accuracy: 0.9667\n",
      "Epoch 17/100\n",
      "12/12 [==============================] - 0s 8ms/step - loss: 0.7835 - accuracy: 0.8583 - val_loss: 0.7156 - val_accuracy: 0.9667\n",
      "Epoch 18/100\n",
      "12/12 [==============================] - 0s 9ms/step - loss: 0.5964 - accuracy: 0.9250 - val_loss: 0.6835 - val_accuracy: 0.9667\n",
      "Epoch 19/100\n",
      "12/12 [==============================] - 0s 8ms/step - loss: 0.5794 - accuracy: 0.9250 - val_loss: 0.6544 - val_accuracy: 0.9667\n",
      "Epoch 20/100\n",
      "12/12 [==============================] - 0s 9ms/step - loss: 0.6960 - accuracy: 0.9333 - val_loss: 0.6213 - val_accuracy: 1.0000\n",
      "Epoch 21/100\n",
      "12/12 [==============================] - 0s 8ms/step - loss: 0.6753 - accuracy: 0.8833 - val_loss: 0.5918 - val_accuracy: 1.0000\n",
      "Epoch 22/100\n",
      "12/12 [==============================] - 0s 8ms/step - loss: 0.6468 - accuracy: 0.9250 - val_loss: 0.5693 - val_accuracy: 1.0000\n",
      "Epoch 23/100\n",
      "12/12 [==============================] - 0s 8ms/step - loss: 0.6739 - accuracy: 0.8917 - val_loss: 0.5520 - val_accuracy: 1.0000\n",
      "Epoch 24/100\n",
      "12/12 [==============================] - 0s 8ms/step - loss: 0.5843 - accuracy: 0.9167 - val_loss: 0.5397 - val_accuracy: 1.0000\n",
      "Epoch 25/100\n",
      "12/12 [==============================] - 0s 8ms/step - loss: 0.5733 - accuracy: 0.9333 - val_loss: 0.5355 - val_accuracy: 0.9667\n",
      "Epoch 26/100\n",
      "12/12 [==============================] - 0s 8ms/step - loss: 0.5456 - accuracy: 0.9500 - val_loss: 0.5210 - val_accuracy: 0.9667\n",
      "Epoch 27/100\n",
      "12/12 [==============================] - 0s 9ms/step - loss: 0.5678 - accuracy: 0.9250 - val_loss: 0.5125 - val_accuracy: 1.0000\n",
      "Epoch 28/100\n",
      "12/12 [==============================] - 0s 9ms/step - loss: 0.4920 - accuracy: 0.9583 - val_loss: 0.4951 - val_accuracy: 1.0000\n",
      "Epoch 29/100\n",
      "12/12 [==============================] - 0s 8ms/step - loss: 0.5776 - accuracy: 0.9500 - val_loss: 0.4750 - val_accuracy: 1.0000\n",
      "Epoch 30/100\n",
      "12/12 [==============================] - 0s 8ms/step - loss: 0.5302 - accuracy: 0.9500 - val_loss: 0.4486 - val_accuracy: 1.0000\n",
      "Epoch 31/100\n",
      "12/12 [==============================] - 0s 8ms/step - loss: 0.4945 - accuracy: 0.9417 - val_loss: 0.4317 - val_accuracy: 1.0000\n",
      "Epoch 32/100\n",
      "12/12 [==============================] - 0s 8ms/step - loss: 0.5910 - accuracy: 0.9417 - val_loss: 0.4253 - val_accuracy: 1.0000\n",
      "Epoch 33/100\n",
      "12/12 [==============================] - 0s 8ms/step - loss: 0.5065 - accuracy: 0.9583 - val_loss: 0.4284 - val_accuracy: 1.0000\n",
      "Epoch 34/100\n",
      "12/12 [==============================] - 0s 9ms/step - loss: 0.4714 - accuracy: 0.9500 - val_loss: 0.4243 - val_accuracy: 1.0000\n",
      "Epoch 35/100\n",
      "12/12 [==============================] - 0s 8ms/step - loss: 0.4638 - accuracy: 0.9500 - val_loss: 0.4127 - val_accuracy: 1.0000\n",
      "Epoch 36/100\n",
      "12/12 [==============================] - 0s 8ms/step - loss: 0.5295 - accuracy: 0.9250 - val_loss: 0.4188 - val_accuracy: 0.9667\n",
      "Epoch 37/100\n",
      "12/12 [==============================] - 0s 8ms/step - loss: 0.5312 - accuracy: 0.9083 - val_loss: 0.4088 - val_accuracy: 1.0000\n",
      "Epoch 38/100\n",
      "12/12 [==============================] - 0s 8ms/step - loss: 0.4883 - accuracy: 0.9500 - val_loss: 0.3915 - val_accuracy: 1.0000\n",
      "Epoch 39/100\n",
      "12/12 [==============================] - 0s 8ms/step - loss: 0.5289 - accuracy: 0.9333 - val_loss: 0.3916 - val_accuracy: 0.9667\n",
      "Epoch 40/100\n",
      "12/12 [==============================] - 0s 8ms/step - loss: 0.5270 - accuracy: 0.9250 - val_loss: 0.3755 - val_accuracy: 1.0000\n",
      "Epoch 41/100\n",
      "12/12 [==============================] - 0s 9ms/step - loss: 0.4740 - accuracy: 0.9250 - val_loss: 0.3912 - val_accuracy: 0.9667\n",
      "Epoch 42/100\n",
      "12/12 [==============================] - 0s 8ms/step - loss: 0.5131 - accuracy: 0.9083 - val_loss: 0.3997 - val_accuracy: 0.9667\n",
      "Epoch 43/100\n",
      "12/12 [==============================] - 0s 8ms/step - loss: 0.4532 - accuracy: 0.9750 - val_loss: 0.3999 - val_accuracy: 0.9667\n",
      "Epoch 44/100\n",
      "12/12 [==============================] - 0s 8ms/step - loss: 0.4880 - accuracy: 0.9583 - val_loss: 0.3975 - val_accuracy: 0.9667\n",
      "Epoch 45/100\n",
      "12/12 [==============================] - 0s 8ms/step - loss: 0.4407 - accuracy: 0.9667 - val_loss: 0.3822 - val_accuracy: 0.9667\n",
      "Epoch 46/100\n",
      "12/12 [==============================] - 0s 8ms/step - loss: 0.4290 - accuracy: 0.9667 - val_loss: 0.3633 - val_accuracy: 0.9667\n",
      "Epoch 47/100\n",
      "12/12 [==============================] - 0s 9ms/step - loss: 0.4550 - accuracy: 0.9417 - val_loss: 0.3456 - val_accuracy: 0.9667\n",
      "Epoch 48/100\n",
      "12/12 [==============================] - 0s 8ms/step - loss: 0.4718 - accuracy: 0.9250 - val_loss: 0.3267 - val_accuracy: 1.0000\n",
      "Epoch 49/100\n",
      "12/12 [==============================] - 0s 8ms/step - loss: 0.4287 - accuracy: 0.9583 - val_loss: 0.3176 - val_accuracy: 1.0000\n",
      "Epoch 50/100\n",
      "12/12 [==============================] - 0s 8ms/step - loss: 0.4543 - accuracy: 0.9250 - val_loss: 0.3166 - val_accuracy: 1.0000\n",
      "Epoch 51/100\n",
      "12/12 [==============================] - 0s 8ms/step - loss: 0.3714 - accuracy: 0.9667 - val_loss: 0.3122 - val_accuracy: 1.0000\n",
      "Epoch 52/100\n",
      "12/12 [==============================] - 0s 8ms/step - loss: 0.4860 - accuracy: 0.9250 - val_loss: 0.3058 - val_accuracy: 1.0000\n",
      "Epoch 53/100\n",
      "12/12 [==============================] - 0s 8ms/step - loss: 0.3751 - accuracy: 0.9583 - val_loss: 0.2963 - val_accuracy: 1.0000\n",
      "Epoch 54/100\n",
      "12/12 [==============================] - 0s 9ms/step - loss: 0.3951 - accuracy: 0.9667 - val_loss: 0.2904 - val_accuracy: 1.0000\n",
      "Epoch 55/100\n",
      "12/12 [==============================] - 0s 9ms/step - loss: 0.4143 - accuracy: 0.9333 - val_loss: 0.2886 - val_accuracy: 1.0000\n",
      "Epoch 56/100\n",
      "12/12 [==============================] - 0s 8ms/step - loss: 0.4255 - accuracy: 0.9500 - val_loss: 0.2829 - val_accuracy: 1.0000\n",
      "Epoch 57/100\n",
      "12/12 [==============================] - 0s 8ms/step - loss: 0.3497 - accuracy: 0.9667 - val_loss: 0.2786 - val_accuracy: 1.0000\n",
      "Epoch 58/100\n",
      "12/12 [==============================] - 0s 8ms/step - loss: 0.4345 - accuracy: 0.9500 - val_loss: 0.2742 - val_accuracy: 1.0000\n",
      "Epoch 59/100\n",
      "12/12 [==============================] - 0s 8ms/step - loss: 0.3861 - accuracy: 0.9583 - val_loss: 0.2769 - val_accuracy: 1.0000\n",
      "Epoch 60/100\n",
      "12/12 [==============================] - 0s 8ms/step - loss: 0.4221 - accuracy: 0.9500 - val_loss: 0.2776 - val_accuracy: 1.0000\n",
      "Epoch 61/100\n",
      "12/12 [==============================] - 0s 8ms/step - loss: 0.3590 - accuracy: 0.9500 - val_loss: 0.2792 - val_accuracy: 1.0000\n",
      "Epoch 62/100\n",
      "12/12 [==============================] - 0s 9ms/step - loss: 0.5175 - accuracy: 0.9250 - val_loss: 0.2819 - val_accuracy: 1.0000\n",
      "Epoch 63/100\n",
      "12/12 [==============================] - 0s 9ms/step - loss: 0.3976 - accuracy: 0.9583 - val_loss: 0.2832 - val_accuracy: 1.0000\n",
      "Epoch 64/100\n",
      "12/12 [==============================] - 0s 8ms/step - loss: 0.3685 - accuracy: 0.9500 - val_loss: 0.2816 - val_accuracy: 1.0000\n",
      "Epoch 65/100\n",
      "12/12 [==============================] - 0s 8ms/step - loss: 0.3448 - accuracy: 0.9583 - val_loss: 0.2736 - val_accuracy: 1.0000\n",
      "Epoch 66/100\n",
      "12/12 [==============================] - 0s 8ms/step - loss: 0.3529 - accuracy: 0.9583 - val_loss: 0.2666 - val_accuracy: 1.0000\n",
      "Epoch 67/100\n",
      "12/12 [==============================] - 0s 8ms/step - loss: 0.3524 - accuracy: 0.9833 - val_loss: 0.2600 - val_accuracy: 1.0000\n",
      "Epoch 68/100\n",
      "12/12 [==============================] - 0s 8ms/step - loss: 0.4015 - accuracy: 0.9500 - val_loss: 0.2468 - val_accuracy: 1.0000\n",
      "Epoch 69/100\n",
      "12/12 [==============================] - 0s 8ms/step - loss: 0.4803 - accuracy: 0.9083 - val_loss: 0.2501 - val_accuracy: 1.0000\n",
      "Epoch 70/100\n",
      "12/12 [==============================] - 0s 8ms/step - loss: 0.3870 - accuracy: 0.9333 - val_loss: 0.2575 - val_accuracy: 1.0000\n",
      "Epoch 71/100\n",
      "12/12 [==============================] - 0s 8ms/step - loss: 0.3525 - accuracy: 0.9500 - val_loss: 0.2522 - val_accuracy: 1.0000\n",
      "Epoch 72/100\n",
      "12/12 [==============================] - 0s 8ms/step - loss: 0.3707 - accuracy: 0.9417 - val_loss: 0.2494 - val_accuracy: 1.0000\n",
      "Epoch 73/100\n",
      "12/12 [==============================] - 0s 8ms/step - loss: 0.3371 - accuracy: 0.9667 - val_loss: 0.2354 - val_accuracy: 1.0000\n",
      "Epoch 74/100\n",
      "12/12 [==============================] - 0s 9ms/step - loss: 0.3322 - accuracy: 0.9500 - val_loss: 0.2310 - val_accuracy: 1.0000\n",
      "Epoch 75/100\n",
      "12/12 [==============================] - 0s 8ms/step - loss: 0.3718 - accuracy: 0.9167 - val_loss: 0.2305 - val_accuracy: 1.0000\n",
      "Epoch 76/100\n",
      "12/12 [==============================] - 0s 11ms/step - loss: 0.3771 - accuracy: 0.9417 - val_loss: 0.2325 - val_accuracy: 1.0000\n",
      "Epoch 77/100\n",
      "12/12 [==============================] - 0s 8ms/step - loss: 0.3970 - accuracy: 0.9417 - val_loss: 0.2345 - val_accuracy: 1.0000\n",
      "Epoch 78/100\n",
      "12/12 [==============================] - 0s 8ms/step - loss: 0.3286 - accuracy: 0.9667 - val_loss: 0.2426 - val_accuracy: 1.0000\n",
      "Epoch 79/100\n",
      "12/12 [==============================] - 0s 8ms/step - loss: 0.3354 - accuracy: 0.9500 - val_loss: 0.2368 - val_accuracy: 1.0000\n",
      "Epoch 80/100\n",
      "12/12 [==============================] - 0s 8ms/step - loss: 0.4803 - accuracy: 0.9333 - val_loss: 0.2344 - val_accuracy: 1.0000\n",
      "Epoch 81/100\n",
      "12/12 [==============================] - 0s 8ms/step - loss: 0.3188 - accuracy: 0.9583 - val_loss: 0.2398 - val_accuracy: 1.0000\n",
      "Epoch 82/100\n",
      "12/12 [==============================] - 0s 9ms/step - loss: 0.3194 - accuracy: 0.9667 - val_loss: 0.2395 - val_accuracy: 1.0000\n",
      "Epoch 83/100\n",
      "12/12 [==============================] - 0s 8ms/step - loss: 0.3742 - accuracy: 0.9500 - val_loss: 0.2284 - val_accuracy: 1.0000\n",
      "Epoch 84/100\n",
      "12/12 [==============================] - 0s 8ms/step - loss: 0.2981 - accuracy: 0.9750 - val_loss: 0.2185 - val_accuracy: 1.0000\n",
      "Epoch 85/100\n",
      "12/12 [==============================] - 0s 8ms/step - loss: 0.3212 - accuracy: 0.9250 - val_loss: 0.2179 - val_accuracy: 1.0000\n",
      "Epoch 86/100\n",
      "12/12 [==============================] - 0s 8ms/step - loss: 0.3783 - accuracy: 0.9583 - val_loss: 0.2224 - val_accuracy: 1.0000\n",
      "Epoch 87/100\n",
      "12/12 [==============================] - 0s 8ms/step - loss: 0.2973 - accuracy: 0.9417 - val_loss: 0.2180 - val_accuracy: 1.0000\n",
      "Epoch 88/100\n",
      "12/12 [==============================] - 0s 8ms/step - loss: 0.3568 - accuracy: 0.9333 - val_loss: 0.2100 - val_accuracy: 1.0000\n",
      "Epoch 89/100\n",
      "12/12 [==============================] - 0s 8ms/step - loss: 0.3437 - accuracy: 0.9333 - val_loss: 0.2029 - val_accuracy: 1.0000\n",
      "Epoch 90/100\n",
      "12/12 [==============================] - 0s 9ms/step - loss: 0.3087 - accuracy: 0.9500 - val_loss: 0.2130 - val_accuracy: 1.0000\n",
      "Epoch 91/100\n",
      "12/12 [==============================] - 0s 8ms/step - loss: 0.2555 - accuracy: 0.9750 - val_loss: 0.2237 - val_accuracy: 0.9667\n",
      "Epoch 92/100\n",
      "12/12 [==============================] - 0s 8ms/step - loss: 0.3842 - accuracy: 0.9500 - val_loss: 0.2407 - val_accuracy: 0.9667\n",
      "Epoch 93/100\n",
      "12/12 [==============================] - 0s 8ms/step - loss: 0.2743 - accuracy: 0.9750 - val_loss: 0.2210 - val_accuracy: 1.0000\n",
      "Epoch 94/100\n",
      "12/12 [==============================] - 0s 8ms/step - loss: 0.2632 - accuracy: 0.9750 - val_loss: 0.2008 - val_accuracy: 1.0000\n",
      "Epoch 95/100\n",
      "12/12 [==============================] - 0s 8ms/step - loss: 0.3639 - accuracy: 0.9417 - val_loss: 0.1994 - val_accuracy: 1.0000\n",
      "Epoch 96/100\n",
      "12/12 [==============================] - 0s 8ms/step - loss: 0.2772 - accuracy: 0.9917 - val_loss: 0.1902 - val_accuracy: 1.0000\n",
      "Epoch 97/100\n",
      "12/12 [==============================] - 0s 8ms/step - loss: 0.2613 - accuracy: 0.9750 - val_loss: 0.1843 - val_accuracy: 1.0000\n",
      "Epoch 98/100\n",
      "12/12 [==============================] - 0s 9ms/step - loss: 0.2537 - accuracy: 0.9667 - val_loss: 0.1959 - val_accuracy: 1.0000\n",
      "Epoch 99/100\n",
      "12/12 [==============================] - 0s 9ms/step - loss: 0.2435 - accuracy: 0.9750 - val_loss: 0.1941 - val_accuracy: 1.0000\n",
      "Epoch 100/100\n",
      "12/12 [==============================] - 0s 8ms/step - loss: 0.2548 - accuracy: 0.9583 - val_loss: 0.2285 - val_accuracy: 0.9333\n"
     ]
    }
   ],
   "source": [
    "# Train model\n",
    "history = model.fit(X_train, y_train, epochs=100, batch_size=10, validation_data=(X_test, y_test), verbose=1)"
   ]
  },
  {
   "cell_type": "code",
   "execution_count": 9,
   "metadata": {},
   "outputs": [
    {
     "name": "stdout",
     "output_type": "stream",
     "text": [
      "Accuracy: 93.33%\n"
     ]
    }
   ],
   "source": [
    "# Evaluate model\n",
    "loss, accuracy = model.evaluate(X_test, y_test, verbose=0)\n",
    "print(f'Accuracy: {accuracy * 100:.2f}%')"
   ]
  },
  {
   "cell_type": "code",
   "execution_count": 10,
   "metadata": {},
   "outputs": [
    {
     "name": "stdout",
     "output_type": "stream",
     "text": [
      "1/1 [==============================] - 0s 241ms/step\n"
     ]
    }
   ],
   "source": [
    "# Predictions\n",
    "y_pred = np.argmax(model.predict(X_test), axis=1)\n",
    "y_true = np.argmax(y_test, axis=1)"
   ]
  },
  {
   "cell_type": "code",
   "execution_count": 11,
   "metadata": {},
   "outputs": [
    {
     "data": {
      "image/png": "[encoded data removed]",
      "text/plain": [
       "<Figure size 640x480 with 2 Axes>"
      ]
     },
     "metadata": {},
     "output_type": "display_data"
    }
   ],
   "source": [
    "# Confusion Matrix\n",
    "cm = confusion_matrix(y_true, y_pred)\n",
    "display = ConfusionMatrixDisplay(confusion_matrix=cm, display_labels=datasets.load_iris().target_names)\n",
    "display.plot(cmap=plt.cm.Blues)\n",
    "plt.title('Confusion Matrix')\n",
    "plt.show()"
   ]
  }
 ],
 "metadata": {
  "kernelspec": {
   "display_name": "Python 3",
   "language": "python",
   "name": "python3"
  },
  "language_info": {
   "codemirror_mode": {
    "name": "ipython",
    "version": 3
   },
   "file_extension": ".py",
   "mimetype": "text/x-python",
   "name": "python",
   "nbconvert_exporter": "python",
   "pygments_lexer": "ipython3",
   "version": "3.11.3"
  }
 },
 "nbformat": 4,
 "nbformat_minor": 2
}
